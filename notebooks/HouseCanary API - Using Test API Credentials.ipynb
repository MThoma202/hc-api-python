{
 "cells": [
  {
   "cell_type": "markdown",
   "metadata": {},
   "source": [
    "# HouseCanary API - Using Test API Credentials"
   ]
  },
  {
   "cell_type": "markdown",
   "metadata": {},
   "source": [
    "#### This tutorial will show you how to use the HouseCanary API with test API keys and addresses. First we'll make a GET request using our test API key and secret to retrieve test addresses. Then we'll use those addresses to call the various HouseCanary API endpoints such as the Analytics API, the Value Report API and the Rental Report API."
   ]
  },
  {
   "cell_type": "markdown",
   "metadata": {},
   "source": [
    "First, grab your test API key and secret. If you don't already have a test API key and secret, generate them on your [API Settings page](https://valuereport.housecanary.com/settings/api-settings). "
   ]
  },
  {
   "cell_type": "markdown",
   "metadata": {},
   "source": [
    "Next, we'll make a GET request to the `test_addresses` endpoint to retrieve a list of test addresses we can use with our test credentials. Keep in the mind, these test addresses can change periodically, so be sure to retrieve the latest ones before trying to use them."
   ]
  },
  {
   "cell_type": "code",
   "execution_count": 2,
   "metadata": {
    "collapsed": false
   },
   "outputs": [
    {
     "name": "stdout",
     "output_type": "stream",
     "text": [
      "Enter your API secret: ········\n",
      "[{u'address': u'7904 Verde Springs Dr', u'zipcode': u'89128'},\n",
      " {u'address': u'8691 Flowersong Cv', u'zipcode': u'33473'},\n",
      " {u'address': u'22905 Cielo Vis', u'zipcode': u'78255'},\n",
      " {u'address': u'16 Thomas Ave', u'zipcode': u'03076'},\n",
      " {u'address': u'1111 Oronoco St Unit 441', u'zipcode': u'22314'},\n",
      " {u'address': u'2718 16th Ave S', u'zipcode': u'55407'},\n",
      " {u'address': u'590 Foothill Rd', u'zipcode': u'95023'},\n",
      " {u'address': u'30737 County Road 356-6', u'zipcode': u'81211'},\n",
      " {u'address': u'333 N Canal St Apt 2901', u'zipcode': u'60606'},\n",
      " {u'address': u'3466 Erie Shore Dr', u'zipcode': u'48162'}]\n"
     ]
    }
   ],
   "source": [
    "import requests\n",
    "import pprint\n",
    "import getpass\n",
    "\n",
    "test_key = 'test_SX599E3XL0N8P1D30512'\n",
    "test_secret = getpass.getpass(prompt='Enter your API secret: ')\n",
    "\n",
    "url = 'https://api.housecanary.com/v2/property/test_addresses'\n",
    "\n",
    "response = requests.get(url, auth=(test_key, test_secret))\n",
    "\n",
    "test_addresses = response.json()\n",
    "\n",
    "pprint.pprint(test_addresses)\n",
    "\n",
    "# NOTE: The test addresses change periodically,\n",
    "# so the ones shown below may no longer be valid.\n",
    "# Call this endpoint yourself to retrieve valid test addresses."
   ]
  },
  {
   "cell_type": "code",
   "execution_count": 3,
   "metadata": {
    "collapsed": false
   },
   "outputs": [
    {
     "name": "stdout",
     "output_type": "stream",
     "text": [
      "https://api.housecanary.com/v2/property/details?zipcode=89128&address=7904+Verde+Springs+Dr\n"
     ]
    }
   ],
   "source": [
    "# Now that we've retrieved some test addresses, we can use one of them\n",
    "# to test out the HouseCanary API endpoints.\n",
    "# Let's try one of the Analytics API endpoints.\n",
    "\n",
    "# we'll just take the first address from the list.\n",
    "sample_address = test_addresses[0]\n",
    "\n",
    "url = 'https://api.housecanary.com/v2/property/details'\n",
    "\n",
    "params = {'address': sample_address['address'],\n",
    "          'zipcode': sample_address['zipcode']}\n",
    "\n",
    "response = requests.get(url, params=params, auth=(test_key, test_secret))\n",
    "\n",
    "# We can see what the url looks like\n",
    "print(response.url)\n"
   ]
  },
  {
   "cell_type": "code",
   "execution_count": 4,
   "metadata": {
    "collapsed": false
   },
   "outputs": [
    {
     "name": "stdout",
     "output_type": "stream",
     "text": [
      "[{u'address_info': {u'address': u'7904 Verde Springs Dr',\n",
      "                    u'address_full': u'7904 Verde Springs Dr Las Vegas NV 89128',\n",
      "                    u'city': u'Las Vegas',\n",
      "                    u'county_fips': u'32003',\n",
      "                    u'geo_precision': u'rooftop',\n",
      "                    u'lat': 36.19194,\n",
      "                    u'lng': -115.26735,\n",
      "                    u'state': u'NV',\n",
      "                    u'unit': None,\n",
      "                    u'zipcode': u'89128',\n",
      "                    u'zipcode_plus4': u'7333'},\n",
      "  u'property/details': {u'api_code': 0,\n",
      "                        u'api_code_description': u'ok',\n",
      "                        u'result': {u'assessment': {u'assessment_year': 2016,\n",
      "                                                    u'tax_amount': 1270.51,\n",
      "                                                    u'tax_year': 2015,\n",
      "                                                    u'total_assessed_value': 45636.0},\n",
      "                                    u'property': {u'air_conditioning': u'central',\n",
      "                                                  u'attic': None,\n",
      "                                                  u'basement': None,\n",
      "                                                  u'building_area_sq_ft': 1190,\n",
      "                                                  u'exterior_walls': u'stucco',\n",
      "                                                  u'fireplace': True,\n",
      "                                                  u'full_bath_count': None,\n",
      "                                                  u'garage_parking_of_cars': 2,\n",
      "                                                  u'garage_type_parking': u'attached_garage',\n",
      "                                                  u'heating': u'forced_air_unit',\n",
      "                                                  u'heating_fuel_type': None,\n",
      "                                                  u'no_of_buildings': 0,\n",
      "                                                  u'no_of_stories': None,\n",
      "                                                  u'number_of_bedrooms': 3,\n",
      "                                                  u'number_of_units': 0,\n",
      "                                                  u'partial_bath_count': None,\n",
      "                                                  u'pool': None,\n",
      "                                                  u'property_type': u'Single Family Residential',\n",
      "                                                  u'sewer': None,\n",
      "                                                  u'site_area_acres': 0.09,\n",
      "                                                  u'style': None,\n",
      "                                                  u'subdivision': u'SANTA FE-PHASE 1',\n",
      "                                                  u'total_bath_count': 2.0,\n",
      "                                                  u'total_number_of_rooms': 5,\n",
      "                                                  u'water': None,\n",
      "                                                  u'year_built': 1993}}}}]\n"
     ]
    }
   ],
   "source": [
    "# print the output\n",
    "pprint.pprint(response.json())"
   ]
  },
  {
   "cell_type": "code",
   "execution_count": 5,
   "metadata": {
    "collapsed": false
   },
   "outputs": [
    {
     "name": "stdout",
     "output_type": "stream",
     "text": [
      "https://api.housecanary.com/v2/property/value_report?format=json&zipcode=89128&address=7904+Verde+Springs+Dr\n"
     ]
    }
   ],
   "source": [
    "# Let's try the Value Report API.\n",
    "\n",
    "url = 'https://api.housecanary.com/v2/property/value_report'\n",
    "\n",
    "params = {'address': sample_address['address'],\n",
    "          'zipcode': sample_address['zipcode'],\n",
    "          'format': 'json'}\n",
    "\n",
    "response = requests.get(url, params=params, auth=(test_key, test_secret))\n",
    "\n",
    "print(response.url)\n",
    "\n",
    "# use response.json() to get the Value Report json. The content is too long to display here."
   ]
  },
  {
   "cell_type": "code",
   "execution_count": 6,
   "metadata": {
    "collapsed": false
   },
   "outputs": [
    {
     "name": "stdout",
     "output_type": "stream",
     "text": [
      "https://api.housecanary.com/v2/property/rental_report?format=json&zipcode=89128&address=7904+Verde+Springs+Dr\n"
     ]
    }
   ],
   "source": [
    "# Finally, let's try the Rental Report API.\n",
    "\n",
    "url = 'https://api.housecanary.com/v2/property/rental_report'\n",
    "\n",
    "params = {'address': sample_address['address'],\n",
    "          'zipcode': sample_address['zipcode'],\n",
    "          'format': 'json'}\n",
    "\n",
    "response = requests.get(url, params=params, auth=(test_key, test_secret))\n",
    "\n",
    "print(response.url)\n",
    "\n",
    "# use response.json() to get the Rental Report json. The content is too long to display here."
   ]
  }
 ],
 "metadata": {
  "kernelspec": {
   "display_name": "Python 2",
   "language": "python",
   "name": "python2"
  },
  "language_info": {
   "codemirror_mode": {
    "name": "ipython",
    "version": 2
   },
   "file_extension": ".py",
   "mimetype": "text/x-python",
   "name": "python",
   "nbconvert_exporter": "python",
   "pygments_lexer": "ipython2",
   "version": "2.7.9"
  }
 },
 "nbformat": 4,
 "nbformat_minor": 0
}
